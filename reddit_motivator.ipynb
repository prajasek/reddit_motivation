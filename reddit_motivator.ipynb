{
 "cells": [
  {
   "cell_type": "code",
   "execution_count": 1,
   "metadata": {},
   "outputs": [],
   "source": [
    "import praw, pprint\n",
    "import webbrowser"
    
    "subreddit_name = \"getmotivated\"
   ]
  },
  {
   "cell_type": "code",
   "execution_count": 2,
   "metadata": {},
   "outputs": [],
   "source": [
    "reddit = praw.Reddit(client_id = \"xxx-xxx\",\n",
    "                    client_secret = \"xxxx\",\n",
    "                    password = \"xxxxx\",\n",
    "                    username = \"xxxxx\", \n",
    "                    user_agent = \"get_motivated\")"
   ]
  },
  {
   "cell_type": "code",
   "execution_count": 3,
   "metadata": {},
   "outputs": [],
   "source": [
    "subreddit = reddit.subreddit(\"getmotivated\")"
   ]
  },
  {
   "cell_type": "code",
   "execution_count": 20,
   "metadata": {},
   "outputs": [],
   "source": [
    "post_dict = {\"title\" : [], \"id\" : [] , \"url\" : []}\n",
    "for post in subreddit.hot(limit=5):\n",
    "    post_dict[\"title\"].append(post.title)\n",
    "    post_dict[\"id\"].append(post.id)\n",
    "    post_dict[\"url\"].append(post.url)\n",
    "for i in range(1):\n",
    "    post_dict[\"title\"].append(subreddit.random().title)\n",
    "    post_dict[\"id\"].append(subreddit.random().id)\n",
    "    post_dict[\"url\"].append(subreddit.random().url)\n"
   ]
  },
  {
   "cell_type": "code",
   "execution_count": 21,
   "metadata": {},
   "outputs": [],
   "source": [
    "# Hot 3 post +  1 random post\n",
    "\n",
    "hot_ten_links = [(post_title,\"https://www.reddit.com/r/GetMotivated/comments/\"+ post_id) for post_title, post_id in zip(post_dict[\"title\"][2:],post_dict[\"id\"][2:])]"
   ]
  },
  {
   "cell_type": "code",
   "execution_count": 22,
   "metadata": {},
   "outputs": [],
   "source": [
    "for links in hot_ten_links:\n",
    "    webbrowser.open(links[1], new=1)"
   ]
  },
  {
   "cell_type": "code",
   "execution_count": null,
   "metadata": {
    "collapsed": true
   },
   "outputs": [],
   "source": []
  }
 ],
 "metadata": {
  "kernelspec": {
   "display_name": "Python 3",
   "language": "python",
   "name": "python3"
  },
  "language_info": {
   "codemirror_mode": {
    "name": "ipython",
    "version": 3
   },
   "file_extension": ".py",
   "mimetype": "text/x-python",
   "name": "python",
   "nbconvert_exporter": "python",
   "pygments_lexer": "ipython3",
   "version": "3.6.1"
  }
 },
 "nbformat": 4,
 "nbformat_minor": 2
}
